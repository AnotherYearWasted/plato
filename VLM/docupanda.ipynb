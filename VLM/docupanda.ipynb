{
 "cells": [
  {
   "cell_type": "code",
   "execution_count": 51,
   "metadata": {},
   "outputs": [
    {
     "data": {
      "text/plain": [
       "True"
      ]
     },
     "execution_count": 51,
     "metadata": {},
     "output_type": "execute_result"
    }
   ],
   "source": [
    "import os\n",
    "import base64\n",
    "import requests\n",
    "from dotenv import load_dotenv\n",
    "import json\n",
    "load_dotenv()"
   ]
  },
  {
   "cell_type": "code",
   "execution_count": 52,
   "metadata": {},
   "outputs": [],
   "source": [
    "url = \"https://app.docupanda.io/document\"\n",
    "api_key = 'QBNaKu99Yia3N7fqBLSk9MEfEOy1'\n",
    "data_path = \"data\"\n",
    "filename = \"Test_1.jpg\"\n",
    "payload = {\"document\": {\"file\": {\n",
    "    \"contents\": base64.b64encode(open(os.path.join(data_path, filename), 'rb').read()).decode(),\n",
    "    \"filename\": \"data/Test_1.jpg\"\n",
    "}}}\n",
    "headers = {\n",
    "    \"accept\": \"application/json\",\n",
    "    \"content-type\": \"application/json\",\n",
    "    \"X-API-Key\": api_key\n",
    "}\n",
    "\n",
    "response = requests.post(url, json=payload, headers=headers)\n",
    "document_id = response.json()['documentId']"
   ]
  },
  {
   "cell_type": "code",
   "execution_count": 53,
   "metadata": {},
   "outputs": [
    {
     "name": "stdout",
     "output_type": "stream",
     "text": [
      "{'documentId': '2684d7dc', 'dataset': 'unassigned', 'classified': False, 'classIds': None, 'filename': None, 'fileType': None, 'fileExtension': None, 'result': {'pages': [], 'numPages': 0, 'text': '', 'language': None}, 'metadata': None, 'language': None, 'status': 'processing', 'timestamp': '2025-02-18T14:00:01.622000Z'}\n"
     ]
    }
   ],
   "source": [
    "url_doc = f\"https://app.docupanda.io/document/{document_id}\"\n",
    "\n",
    "headers_doc = {\n",
    "    \"accept\": \"application/json\",\n",
    "    \"X-API-Key\": api_key\n",
    "}\n",
    "\n",
    "response_doc = requests.get(url_doc, headers=headers_doc)\n",
    "\n",
    "print(response_doc.json())"
   ]
  },
  {
   "cell_type": "code",
   "execution_count": 55,
   "metadata": {},
   "outputs": [
    {
     "name": "stdout",
     "output_type": "stream",
     "text": [
      "{'jobId': '04dd41ff', 'status': 'processing', 'timestamp': '2025-02-18T14:00:10.680935', 'documentCount': 1, 'pageCount': 1, 'standardizationJobIds': ['c9ad72b6'], 'standardizationIds': ['d25571af'], 'details': None}\n"
     ]
    }
   ],
   "source": [
    "url_std = \"https://app.docupanda.io/standardize/batch\"\n",
    "schema_id = \"97a2e3ec\"\n",
    "\n",
    "payload_std = {\n",
    "    \"documentIds\": [document_id],\n",
    "    \"schemaId\": schema_id\n",
    "}\n",
    "headers_std = {\n",
    "    \"accept\": \"application/json\",\n",
    "    \"content-type\": \"application/json\",\n",
    "    \"X-API-Key\": api_key\n",
    "}\n",
    "\n",
    "response_std = requests.post(url_std, json=payload_std, headers=headers_std)\n",
    "\n",
    "print(response_std.json())"
   ]
  },
  {
   "cell_type": "code",
   "execution_count": 59,
   "metadata": {},
   "outputs": [
    {
     "name": "stdout",
     "output_type": "stream",
     "text": [
      "{'standardizationId': 'd25571af', 'documentId': '2684d7dc', 'data': {'storeName': 'Banh Mi Viet Pte Ltd', 'transactionDate': '2025-01-14', 'billedAmount': '$48.00', 'items': [{'description': 'Roaster Pork / Heo Quay', 'quantity': 2, 'priceSgd': 7.0}, {'description': 'BBQ Beef Cheese / Bo Nuong Pho Mai', 'quantity': 3, 'priceSgd': 7.0}, {'description': 'Sticky Rice / Xoi Man', 'quantity': 2, 'priceSgd': 6.5}]}, 'schemaId': '97a2e3ec', 'schemaName': 'Invoice V3', 'description': None, 'jobId': 'c9ad72b6', 'dataset': 'unassigned', 'filename': 'data/Test_1', 'timestamp': '2025-02-18T14:00:24.552000Z', 'metadata': None}\n"
     ]
    }
   ],
   "source": [
    "standardization_id = response_std.json()['standardizationIds'][0]\n",
    "url_final = f\"https://app.docupanda.io/standardization/{standardization_id}\"\n",
    "\n",
    "headers_final = {\n",
    "    \"accept\": \"application/json\",\n",
    "    \"X-API-Key\": api_key\n",
    "}\n",
    "\n",
    "response_final = requests.get(url_final, headers=headers_final)\n",
    "print(response_final.json())"
   ]
  },
  {
   "cell_type": "code",
   "execution_count": 61,
   "metadata": {},
   "outputs": [
    {
     "name": "stdout",
     "output_type": "stream",
     "text": [
      "JSON saved successfully.\n"
     ]
    }
   ],
   "source": [
    "output_path = \"output\"\n",
    "if not os.path.exists(output_path):\n",
    "    os.makedirs(output_path)\n",
    "    \n",
    "data = response_final.json()['data']\n",
    "with open(os.path.join(output_path, os.path.splitext(filename)[0] + \".json\"), \"w\") as json_file:\n",
    "    json.dump(data, json_file, indent=4)  # Pretty-print with indentation\n",
    "\n",
    "print(\"JSON saved successfully.\")"
   ]
  },
  {
   "cell_type": "code",
   "execution_count": null,
   "metadata": {},
   "outputs": [],
   "source": []
  }
 ],
 "metadata": {
  "kernelspec": {
   "display_name": "DLW",
   "language": "python",
   "name": "python3"
  },
  "language_info": {
   "codemirror_mode": {
    "name": "ipython",
    "version": 3
   },
   "file_extension": ".py",
   "mimetype": "text/x-python",
   "name": "python",
   "nbconvert_exporter": "python",
   "pygments_lexer": "ipython3",
   "version": "3.12.2"
  }
 },
 "nbformat": 4,
 "nbformat_minor": 2
}
